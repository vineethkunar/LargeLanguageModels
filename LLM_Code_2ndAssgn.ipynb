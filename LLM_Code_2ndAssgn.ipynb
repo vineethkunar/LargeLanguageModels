{
  "nbformat": 4,
  "nbformat_minor": 0,
  "metadata": {
    "colab": {
      "provenance": [],
      "authorship_tag": "ABX9TyOA8FcqLJLprtQ7O8iZzgjw",
      "include_colab_link": true
    },
    "kernelspec": {
      "name": "python3",
      "display_name": "Python 3"
    },
    "language_info": {
      "name": "python"
    }
  },
  "cells": [
    {
      "cell_type": "markdown",
      "metadata": {
        "id": "view-in-github",
        "colab_type": "text"
      },
      "source": [
        "<a href=\"https://colab.research.google.com/github/vineethkunar/LargeLanguageModels/blob/main/LLM_Code_2ndAssgn.ipynb\" target=\"_parent\"><img src=\"https://colab.research.google.com/assets/colab-badge.svg\" alt=\"Open In Colab\"/></a>"
      ]
    },
    {
      "cell_type": "code",
      "execution_count": 1,
      "metadata": {
        "id": "jXZw4NokzAOR"
      },
      "outputs": [],
      "source": [
        "import pandas as pd\n",
        "TopicTrainData = pd.read_csv(\"https://raw.githubusercontent.com/vineethkunar/LargeLanguageModels/refs/heads/main/train.csv\")\n",
        "TopicTestData = pd.read_csv(\"https://raw.githubusercontent.com/vineethkunar/LargeLanguageModels/refs/heads/main/train.csv\")"
      ]
    },
    {
      "cell_type": "code",
      "source": [
        "print(TopicTrainData.head())"
      ],
      "metadata": {
        "colab": {
          "base_uri": "https://localhost:8080/"
        },
        "id": "-jlPhVU7zGaX",
        "outputId": "fe4c8658-6928-48cf-b29d-61d18d69605d"
      },
      "execution_count": 2,
      "outputs": [
        {
          "output_type": "stream",
          "name": "stdout",
          "text": [
            "       Id                                            Comment      Topic\n",
            "0   0x840  A few things. You might have negative- frequen...    Biology\n",
            "1   0xbf0  Is it so hard to believe that there exist part...    Physics\n",
            "2  0x1dfc                                     There are bees    Biology\n",
            "3   0xc7e  I'm a medication technician. And that's alot o...    Biology\n",
            "4   0xbba                     Cesium is such a pretty metal.  Chemistry\n"
          ]
        }
      ]
    }
  ]
}